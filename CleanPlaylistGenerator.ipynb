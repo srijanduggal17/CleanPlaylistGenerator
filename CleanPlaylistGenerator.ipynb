{
 "cells": [
  {
   "cell_type": "markdown",
   "metadata": {},
   "source": [
    "# Clean Playlist Generator"
   ]
  },
  {
   "cell_type": "markdown",
   "metadata": {},
   "source": [
    "This notebook will take the saved songs from your spotify library and create a playlist with just the clean ones!"
   ]
  },
  {
   "cell_type": "markdown",
   "metadata": {},
   "source": [
    "### Setup"
   ]
  },
  {
   "cell_type": "code",
   "execution_count": 39,
   "metadata": {},
   "outputs": [
    {
     "name": "stdout",
     "output_type": "stream",
     "text": [
      "\n",
      "\n",
      "            User authentication requires interaction with your\n",
      "            web browser. Once you enter your credentials and\n",
      "            give authorization, you will be redirected to\n",
      "            a url.  Paste that url you were directed to to\n",
      "            complete the authorization.\n",
      "\n",
      "        \n",
      "Opened https://accounts.spotify.com/authorize?client_id=fca05df727e74e95952546cbc88a86c0&response_type=code&redirect_uri=http%3A%2F%2Flocalhost%2F&scope=playlist-modify-public+user-library-read in your browser\n",
      "\n",
      "\n"
     ]
    },
    {
     "name": "stdin",
     "output_type": "stream",
     "text": [
      "Enter the URL you were redirected to:  http://localhost/?code=AQBm2UqJ_2DWbHfDrxaNC916vFj37tGEt_FXlQe8OQHMnHqpAGaHoqq8DSX4F1QZgpNBBwMA8-nU-HPx5HpKyL-9zOr5Z64ETeUmBa2vySPV3v4neIkA-CVWbzsG-nhegKvi-tQ0ASEHiCYn23K7k2ilHAdUSDTQ7CbYdQjIfQZZ5BDsKWYx7lCJb1SRUV7ayphXqxYYIUt_I2Y4fhtFAQ\n"
     ]
    },
    {
     "name": "stdout",
     "output_type": "stream",
     "text": [
      "\n",
      "\n"
     ]
    }
   ],
   "source": [
    "import sys\n",
    "import spotipy\n",
    "import spotipy.util as util\n",
    "import requests\n",
    "import json\n",
    "import pandas as pd\n",
    "import numpy as np\n",
    "\n",
    "# Declare API access keys and request information\n",
    "scope = 'user-library-read playlist-modify-public'\n",
    "username = ''\n",
    "client_id = ''\n",
    "client_secret = ''\n",
    "redirect_uri = 'http://localhost/'\n",
    "\n",
    "token = util.prompt_for_user_token(username,scope,client_id=client_id,client_secret=client_secret,redirect_uri=redirect_uri)\n",
    "\n",
    "if token:\n",
    "    sp = spotipy.Spotify(auth=token)\n",
    "else:\n",
    "    print(\"Can't get token for\", username)"
   ]
  },
  {
   "cell_type": "markdown",
   "metadata": {},
   "source": [
    "### Get User's Songs"
   ]
  },
  {
   "cell_type": "markdown",
   "metadata": {},
   "source": [
    "Get the total number of songs you have saved"
   ]
  },
  {
   "cell_type": "code",
   "execution_count": 3,
   "metadata": {},
   "outputs": [
    {
     "name": "stdout",
     "output_type": "stream",
     "text": [
      "Total Tracks: 2294\n"
     ]
    }
   ],
   "source": [
    "nextOffset = 0\n",
    "nextLimit = 50\n",
    "\n",
    "results = sp.current_user_saved_tracks(limit=nextLimit, offset=nextOffset)\n",
    "print('Total Tracks: {}'.format(results['total']))"
   ]
  },
  {
   "cell_type": "code",
   "execution_count": 22,
   "metadata": {},
   "outputs": [],
   "source": [
    "# Create DataFrame to store results\n",
    "df_my_songs = pd.DataFrame(columns=['song_uri', 'explicit'])\n",
    "\n",
    "# Add results of initial request to DataFrame\n",
    "for item in results['items']:\n",
    "    df_my_songs = df_my_songs.append({\n",
    "        'song_uri': item['track']['id'],\n",
    "        'explicit': item['track']['explicit']\n",
    "    }, ignore_index=True)\n",
    "nextOffset += nextLimit\n",
    "\n",
    "# Continue requesting song and names for all songs\n",
    "while (results['next'] != None): \n",
    "    results = sp.current_user_saved_tracks(limit=nextLimit, offset=nextOffset)\n",
    "    for item in results['items']:\n",
    "        df_my_songs = df_my_songs.append({\n",
    "            'song_uri': item['track']['id'],\n",
    "            'explicit': item['track']['explicit']\n",
    "        }, ignore_index=True)\n",
    "    nextOffset += nextLimit"
   ]
  },
  {
   "cell_type": "code",
   "execution_count": 25,
   "metadata": {},
   "outputs": [
    {
     "data": {
      "text/html": [
       "<div>\n",
       "<style scoped>\n",
       "    .dataframe tbody tr th:only-of-type {\n",
       "        vertical-align: middle;\n",
       "    }\n",
       "\n",
       "    .dataframe tbody tr th {\n",
       "        vertical-align: top;\n",
       "    }\n",
       "\n",
       "    .dataframe thead th {\n",
       "        text-align: right;\n",
       "    }\n",
       "</style>\n",
       "<table border=\"1\" class=\"dataframe\">\n",
       "  <thead>\n",
       "    <tr style=\"text-align: right;\">\n",
       "      <th></th>\n",
       "      <th>song_uri</th>\n",
       "      <th>explicit</th>\n",
       "    </tr>\n",
       "  </thead>\n",
       "  <tbody>\n",
       "    <tr>\n",
       "      <th>0</th>\n",
       "      <td>6H4vsxNsm2NsV8pBAb5WnU</td>\n",
       "      <td>True</td>\n",
       "    </tr>\n",
       "    <tr>\n",
       "      <th>1</th>\n",
       "      <td>34gCuhDGsG4bRPIf9bb02f</td>\n",
       "      <td>False</td>\n",
       "    </tr>\n",
       "    <tr>\n",
       "      <th>2</th>\n",
       "      <td>7LEMGMfmJDd1iLsGD9eV5l</td>\n",
       "      <td>False</td>\n",
       "    </tr>\n",
       "    <tr>\n",
       "      <th>3</th>\n",
       "      <td>3cwXD9KKjanH5y3d4hNDGc</td>\n",
       "      <td>False</td>\n",
       "    </tr>\n",
       "    <tr>\n",
       "      <th>4</th>\n",
       "      <td>3A0C7Uhq5KYUExhmCIGLEb</td>\n",
       "      <td>False</td>\n",
       "    </tr>\n",
       "  </tbody>\n",
       "</table>\n",
       "</div>"
      ],
      "text/plain": [
       "                 song_uri explicit\n",
       "0  6H4vsxNsm2NsV8pBAb5WnU     True\n",
       "1  34gCuhDGsG4bRPIf9bb02f    False\n",
       "2  7LEMGMfmJDd1iLsGD9eV5l    False\n",
       "3  3cwXD9KKjanH5y3d4hNDGc    False\n",
       "4  3A0C7Uhq5KYUExhmCIGLEb    False"
      ]
     },
     "execution_count": 25,
     "metadata": {},
     "output_type": "execute_result"
    }
   ],
   "source": [
    "df_my_songs.head()"
   ]
  },
  {
   "cell_type": "markdown",
   "metadata": {},
   "source": [
    "### Filter out Explicit Songs"
   ]
  },
  {
   "cell_type": "code",
   "execution_count": 28,
   "metadata": {},
   "outputs": [],
   "source": [
    "df_clean = df_my_songs.copy(deep=True)\n",
    "df_clean = df_clean[df_clean.explicit == False]"
   ]
  },
  {
   "cell_type": "markdown",
   "metadata": {},
   "source": [
    "See how many non-explicit songs do we have"
   ]
  },
  {
   "cell_type": "code",
   "execution_count": 32,
   "metadata": {},
   "outputs": [
    {
     "data": {
      "text/plain": [
       "(1288, 2)"
      ]
     },
     "execution_count": 32,
     "metadata": {},
     "output_type": "execute_result"
    }
   ],
   "source": [
    "df_clean.shape"
   ]
  },
  {
   "cell_type": "markdown",
   "metadata": {},
   "source": [
    "### Add songs to playlist"
   ]
  },
  {
   "cell_type": "markdown",
   "metadata": {},
   "source": [
    "Create a playlist"
   ]
  },
  {
   "cell_type": "code",
   "execution_count": 53,
   "metadata": {},
   "outputs": [],
   "source": [
    "userid = sp.current_user()['id']\n",
    "playlist = sp.user_playlist_create(userid, 'Clean songs')\n",
    "playlistid = playlist['id']"
   ]
  },
  {
   "cell_type": "markdown",
   "metadata": {},
   "source": [
    "Add tracks to playlist"
   ]
  },
  {
   "cell_type": "code",
   "execution_count": 55,
   "metadata": {},
   "outputs": [
    {
     "name": "stdout",
     "output_type": "stream",
     "text": [
      "Adding 0 to 100\n",
      "Adding 100 to 200\n",
      "Adding 200 to 300\n",
      "Adding 300 to 400\n",
      "Adding 400 to 500\n",
      "Adding 500 to 600\n",
      "Adding 600 to 700\n",
      "Adding 700 to 800\n",
      "Adding 800 to 900\n",
      "Adding 900 to 1000\n",
      "Adding 1000 to 1100\n",
      "Adding 1100 to 1200\n",
      "Adding 1200 to end\n"
     ]
    },
    {
     "data": {
      "text/plain": [
       "{'snapshot_id': 'MTQsODY1ZmM3NTcxNzdiMTAyNDViZGY2ZjAwYmIyMTkxZDc0M2QxYzgyNg=='}"
      ]
     },
     "execution_count": 55,
     "metadata": {},
     "output_type": "execute_result"
    }
   ],
   "source": [
    "uris_to_add = df_clean.song_uri.values\n",
    "\n",
    "start_ndx = 0\n",
    "end_ndx = 100\n",
    "\n",
    "while(end_ndx < len(uris_to_add)):\n",
    "    print('Adding {} to {}'.format(start_ndx, end_ndx))\n",
    "    sp.user_playlist_add_tracks(userid, playlistid, uris_to_add[start_ndx:end_ndx])\n",
    "    start_ndx = end_ndx\n",
    "    end_ndx = end_ndx + 100\n",
    "\n",
    "print('Adding {} to end'.format(start_ndx))\n",
    "sp.user_playlist_add_tracks(userid, playlistid, uris_to_add[start_ndx:])"
   ]
  }
 ],
 "metadata": {
  "kernelspec": {
   "display_name": "Python 3",
   "language": "python",
   "name": "python3"
  },
  "language_info": {
   "codemirror_mode": {
    "name": "ipython",
    "version": 3
   },
   "file_extension": ".py",
   "mimetype": "text/x-python",
   "name": "python",
   "nbconvert_exporter": "python",
   "pygments_lexer": "ipython3",
   "version": "3.7.5"
  }
 },
 "nbformat": 4,
 "nbformat_minor": 4
}
